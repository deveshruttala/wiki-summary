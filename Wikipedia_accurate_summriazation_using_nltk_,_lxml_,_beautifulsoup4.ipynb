{
  "nbformat": 4,
  "nbformat_minor": 0,
  "metadata": {
    "colab": {
      "provenance": [],
      "gpuType": "T4"
    },
    "kernelspec": {
      "name": "python3",
      "display_name": "Python 3"
    },
    "language_info": {
      "name": "python"
    },
    "accelerator": "GPU"
  },
  "cells": [
    {
      "cell_type": "markdown",
      "source": [
        "# Document Summarization on Wikipedia Articles Using Python"
      ],
      "metadata": {
        "id": "4uSckDpxq_gX"
      }
    },
    {
      "cell_type": "code",
      "execution_count": 1,
      "metadata": {
        "colab": {
          "base_uri": "https://localhost:8080/"
        },
        "id": "WBX9XoiAq8js",
        "outputId": "5cf5d54e-7d34-4653-d1b3-6a872fab0891"
      },
      "outputs": [
        {
          "output_type": "stream",
          "name": "stderr",
          "text": [
            "[nltk_data] Downloading package stopwords to /root/nltk_data...\n",
            "[nltk_data]   Unzipping corpora/stopwords.zip.\n",
            "[nltk_data] Downloading package wordnet to /root/nltk_data...\n",
            "[nltk_data] Downloading package punkt to /root/nltk_data...\n",
            "[nltk_data]   Unzipping tokenizers/punkt.zip.\n",
            "[nltk_data] Downloading package averaged_perceptron_tagger to\n",
            "[nltk_data]     /root/nltk_data...\n",
            "[nltk_data]   Unzipping taggers/averaged_perceptron_tagger.zip.\n"
          ]
        },
        {
          "output_type": "execute_result",
          "data": {
            "text/plain": [
              "True"
            ]
          },
          "metadata": {},
          "execution_count": 1
        }
      ],
      "source": [
        "# Backend\n",
        "import nltk\n",
        "nltk.download('stopwords')\n",
        "nltk.download('wordnet')\n",
        "nltk.download('punkt')\n",
        "nltk.download('averaged_perceptron_tagger')"
      ]
    },
    {
      "cell_type": "code",
      "source": [
        "pip install beautifulsoup4"
      ],
      "metadata": {
        "colab": {
          "base_uri": "https://localhost:8080/"
        },
        "id": "9Yv7tR13sgXi",
        "outputId": "285fff8d-3cea-4941-968c-108ab4332c1d"
      },
      "execution_count": 2,
      "outputs": [
        {
          "output_type": "stream",
          "name": "stdout",
          "text": [
            "Requirement already satisfied: beautifulsoup4 in /usr/local/lib/python3.10/dist-packages (4.11.2)\n",
            "Requirement already satisfied: soupsieve>1.2 in /usr/local/lib/python3.10/dist-packages (from beautifulsoup4) (2.5)\n"
          ]
        }
      ]
    },
    {
      "cell_type": "code",
      "source": [
        "pip install lxml"
      ],
      "metadata": {
        "colab": {
          "base_uri": "https://localhost:8080/"
        },
        "id": "qhDHJALvrDsI",
        "outputId": "fb475daf-c152-4bd3-fa78-47d1ec4cd434"
      },
      "execution_count": 3,
      "outputs": [
        {
          "output_type": "stream",
          "name": "stdout",
          "text": [
            "Requirement already satisfied: lxml in /usr/local/lib/python3.10/dist-packages (4.9.4)\n"
          ]
        }
      ]
    },
    {
      "cell_type": "code",
      "source": [
        "# Core Libraries\n",
        "import bs4 as bs\n",
        "import urllib.request\n",
        "import re\n",
        "\n",
        "# Indirect requirements\n",
        "import pandas as pd\n",
        "import matplotlib.pyplot as plt\n",
        "import io\n",
        "import unicodedata\n",
        "import numpy as np\n",
        "import string"
      ],
      "metadata": {
        "id": "IH-HiLEfrL_2"
      },
      "execution_count": 4,
      "outputs": []
    },
    {
      "cell_type": "markdown",
      "source": [
        "## Fetching Articles from Wikipedia"
      ],
      "metadata": {
        "id": "ZIyvEXYiuAUZ"
      }
    },
    {
      "cell_type": "code",
      "source": [
        "# Scrapping the data and loading from url\n",
        "\n",
        "wikipedia_article = urllib.request.urlopen('https://en.wikipedia.org/wiki/Prabhas_filmography_and_awards')  # Open the URL which is the link to Wikipedia article on Earth\n",
        "article = wikipedia_article.read() # Loading the content of article with all unwanted characters and tags"
      ],
      "metadata": {
        "id": "Vrc4kqMxO3E1"
      },
      "execution_count": 5,
      "outputs": []
    },
    {
      "cell_type": "markdown",
      "source": [
        "## Preprocessing of the Data"
      ],
      "metadata": {
        "id": "N6FVu-ZUuGXb"
      }
    },
    {
      "cell_type": "code",
      "source": [
        "parsed_article = bs.BeautifulSoup(article,'lxml') # BeautifulSoup lxml allows us to parse HTML and XML files\n",
        "\n",
        "paragraphs = parsed_article.find_all('p') # Reads the <p> </p> tags in the article\n",
        "\n",
        "article_text = \"\"\n",
        "\n",
        "for p in paragraphs:\n",
        "    article_text += p.text\n",
        "    #article_text2 += p."
      ],
      "metadata": {
        "id": "pumqn5CL4Z7c"
      },
      "execution_count": 6,
      "outputs": []
    },
    {
      "cell_type": "code",
      "source": [
        "# Viewiing content with symbols\n",
        "article_text"
      ],
      "metadata": {
        "colab": {
          "base_uri": "https://localhost:8080/",
          "height": 123
        },
        "id": "BQPNUINNtw9D",
        "outputId": "d847b21a-cf64-4d10-c862-a7c78be3bee9"
      },
      "execution_count": 7,
      "outputs": [
        {
          "output_type": "execute_result",
          "data": {
            "text/plain": [
              "\"\\nPrabhas is an Indian actor who works predominantly in Telugu cinema. One of the highest-paid actors in Indian cinema,[1] Prabhas has featured in Forbes India's Celebrity 100 list three times since 2015 based on his income and popularity.[2][3][4] He has received seven Filmfare Awards South nominations and is a recipient of the Nandi Award and the SIIMA Award.\\nPrabhas made his acting debut with the 2002 Telugu drama Eeswar, and later attained his breakthrough with the romantic action film Varsham (2004). His notable works include Chatrapathi (2005), Bujjigadu (2008), Billa (2009), Darling (2010), Mr. Perfect (2011), and Mirchi (2013). He won the state Nandi Award for Best Actor for his performance in Mirchi.[5][6] In 2015, Prabhas starred in the title role in S. S. Rajamouli's epic action film Baahubali: The Beginning, which is the fourth-highest-grossing Indian film to date. He later reprised his role in its sequel, Baahubali 2: The Conclusion (2017), which became the first Indian film ever to gross over ₹1,000 crore (US$155 million) in just ten days, and is the second highest-grossing Indian film to date. \\nPrabhas next film Saaho was an above average grosser at the box office while Radhe Shyam ended up as a commercial failure at the box office.[7] He has also acted in Om Raut's Adipurush  which was a commercial failure. He then collaborated with Prashanth Neel for a two-parter film series Salaar, the first part titled Ceasefire released in December 2023 to positive reviews and emerged as the highest-grossing Telugu film of 2023.\\nCurrently Prabhas is filming 2 films - Kalki 2898 AD, and a film with Maruthi  titled The Raja Saab. Prabhas is also set to star in Sandeep Reddy Vanga's cop drama film Spirit.\\n\""
            ],
            "application/vnd.google.colaboratory.intrinsic+json": {
              "type": "string"
            }
          },
          "metadata": {},
          "execution_count": 7
        }
      ]
    },
    {
      "cell_type": "code",
      "source": [
        "# Droping unwanted characters and spaces\n",
        "\n",
        "article_text = re.sub(r'\\[[0-9]*\\]', ' ', article_text)\n",
        "article_text = re.sub(r'\\s+', ' ', article_text)\n",
        "formatted_article_text = re.sub('[^a-zA-Z]', ' ', article_text )\n",
        "formatted_article_text = re.sub(r'\\s+', ' ', formatted_article_text)"
      ],
      "metadata": {
        "id": "pydd_UCnrPDQ"
      },
      "execution_count": 8,
      "outputs": []
    },
    {
      "cell_type": "code",
      "source": [
        "# Viewing processed data without symbols\n",
        "formatted_article_text"
      ],
      "metadata": {
        "colab": {
          "base_uri": "https://localhost:8080/",
          "height": 123
        },
        "id": "fSFiN7Ih-58c",
        "outputId": "3ba721f5-7c04-4961-b4ef-4ae06e04e788"
      },
      "execution_count": 9,
      "outputs": [
        {
          "output_type": "execute_result",
          "data": {
            "text/plain": [
              "' Prabhas is an Indian actor who works predominantly in Telugu cinema One of the highest paid actors in Indian cinema Prabhas has featured in Forbes India s Celebrity list three times since based on his income and popularity He has received seven Filmfare Awards South nominations and is a recipient of the Nandi Award and the SIIMA Award Prabhas made his acting debut with the Telugu drama Eeswar and later attained his breakthrough with the romantic action film Varsham His notable works include Chatrapathi Bujjigadu Billa Darling Mr Perfect and Mirchi He won the state Nandi Award for Best Actor for his performance in Mirchi In Prabhas starred in the title role in S S Rajamouli s epic action film Baahubali The Beginning which is the fourth highest grossing Indian film to date He later reprised his role in its sequel Baahubali The Conclusion which became the first Indian film ever to gross over crore US million in just ten days and is the second highest grossing Indian film to date Prabhas next film Saaho was an above average grosser at the box office while Radhe Shyam ended up as a commercial failure at the box office He has also acted in Om Raut s Adipurush which was a commercial failure He then collaborated with Prashanth Neel for a two parter film series Salaar the first part titled Ceasefire released in December to positive reviews and emerged as the highest grossing Telugu film of Currently Prabhas is filming films Kalki AD and a film with Maruthi titled The Raja Saab Prabhas is also set to star in Sandeep Reddy Vanga s cop drama film Spirit '"
            ],
            "application/vnd.google.colaboratory.intrinsic+json": {
              "type": "string"
            }
          },
          "metadata": {},
          "execution_count": 9
        }
      ]
    },
    {
      "cell_type": "markdown",
      "source": [
        "## Performing Text Tokenization"
      ],
      "metadata": {
        "id": "6rSyz80BuSYZ"
      }
    },
    {
      "cell_type": "code",
      "source": [
        "sentence_list = nltk.sent_tokenize(article_text) # Using NLTK and Punkt to generate tokens"
      ],
      "metadata": {
        "id": "mM4IdjFGrWIA"
      },
      "execution_count": 10,
      "outputs": []
    },
    {
      "cell_type": "code",
      "source": [
        "sentence_list[:3] # Viewing few sentences"
      ],
      "metadata": {
        "colab": {
          "base_uri": "https://localhost:8080/"
        },
        "id": "1UkgcIPpvmqN",
        "outputId": "1975f272-51d3-45fc-f770-c1081fb264eb"
      },
      "execution_count": 11,
      "outputs": [
        {
          "output_type": "execute_result",
          "data": {
            "text/plain": [
              "[' Prabhas is an Indian actor who works predominantly in Telugu cinema.',\n",
              " \"One of the highest-paid actors in Indian cinema, Prabhas has featured in Forbes India's Celebrity 100 list three times since 2015 based on his income and popularity.\",\n",
              " 'He has received seven Filmfare Awards South nominations and is a recipient of the Nandi Award and the SIIMA Award.']"
            ]
          },
          "metadata": {},
          "execution_count": 11
        }
      ]
    },
    {
      "cell_type": "markdown",
      "source": [
        "## Weighting the Frequency of Words"
      ],
      "metadata": {
        "id": "N4tTrVzMuZiH"
      }
    },
    {
      "cell_type": "code",
      "source": [
        "stopwords = nltk.corpus.stopwords.words('english') # Loading the English version, you can change to other langages as required\n",
        "\n",
        "# Iterating for individual words\n",
        "word_frequencies = {}\n",
        "for word in nltk.word_tokenize(formatted_article_text):\n",
        "    if word not in stopwords: # Dodge stop words\n",
        "        if word not in word_frequencies.keys():\n",
        "            word_frequencies[word] = 1\n",
        "        else:\n",
        "            word_frequencies[word] += 1"
      ],
      "metadata": {
        "id": "loVgPzpirYZU"
      },
      "execution_count": 12,
      "outputs": []
    },
    {
      "cell_type": "code",
      "source": [
        "maximum_frequncy = max(word_frequencies.values()) # Reading the number occurence of highest re-occuring word"
      ],
      "metadata": {
        "id": "OXFrC3DUsr2A"
      },
      "execution_count": 13,
      "outputs": []
    },
    {
      "cell_type": "code",
      "source": [
        "maximum_frequncy"
      ],
      "metadata": {
        "colab": {
          "base_uri": "https://localhost:8080/"
        },
        "id": "EyfdlUYuIkWj",
        "outputId": "5dd30b7e-c42f-43eb-f919-0872901a98a6"
      },
      "execution_count": 14,
      "outputs": [
        {
          "output_type": "execute_result",
          "data": {
            "text/plain": [
              "10"
            ]
          },
          "metadata": {},
          "execution_count": 14
        }
      ]
    },
    {
      "cell_type": "code",
      "source": [
        "most_frequent_word = max(word_frequencies) # Printing the highest re-occuring word"
      ],
      "metadata": {
        "id": "ydBoSy5vIapm"
      },
      "execution_count": 15,
      "outputs": []
    },
    {
      "cell_type": "code",
      "source": [
        "most_frequent_word"
      ],
      "metadata": {
        "colab": {
          "base_uri": "https://localhost:8080/",
          "height": 36
        },
        "id": "IINSA8Pyw95p",
        "outputId": "697c817a-3652-41a5-df76-ca8f08927168"
      },
      "execution_count": 16,
      "outputs": [
        {
          "output_type": "execute_result",
          "data": {
            "text/plain": [
              "'works'"
            ],
            "application/vnd.google.colaboratory.intrinsic+json": {
              "type": "string"
            }
          },
          "metadata": {},
          "execution_count": 16
        }
      ]
    },
    {
      "cell_type": "code",
      "source": [
        "# Using the most occuring word as an avarage\n",
        "for word in word_frequencies.keys():\n",
        "    word_frequencies[word] = (word_frequencies[word]/maximum_frequncy)"
      ],
      "metadata": {
        "id": "zhMgH9RUxLYq"
      },
      "execution_count": 17,
      "outputs": []
    },
    {
      "cell_type": "markdown",
      "source": [
        "## Finding the Score of Sentences"
      ],
      "metadata": {
        "id": "_zyQma41s5-C"
      }
    },
    {
      "cell_type": "code",
      "source": [
        "# We use the word frequency to measure the value of a sentence\n",
        "sentence_scores = {}\n",
        "for sent in sentence_list: # Reads article coontaining symbols\n",
        "    for word in nltk.word_tokenize(sent.lower()):\n",
        "        if word in word_frequencies.keys(): # Will ignore stop words in sentence_list\n",
        "            if len(sent.split(' ')) < 32: # Dropping sentences with words more than 32. Summary should be short\n",
        "                if sent not in sentence_scores.keys():\n",
        "                    sentence_scores[sent] = word_frequencies[word]\n",
        "                else:\n",
        "                    sentence_scores[sent] += word_frequencies[word]"
      ],
      "metadata": {
        "id": "0dHWtUdAssl0"
      },
      "execution_count": 18,
      "outputs": []
    },
    {
      "cell_type": "code",
      "source": [
        "# Viewing the value of each sentence\n",
        "sentence_scores"
      ],
      "metadata": {
        "colab": {
          "base_uri": "https://localhost:8080/"
        },
        "id": "if_KwVtoqkW8",
        "outputId": "e18a6eaf-413f-48ee-9fcd-7fd78f27269e"
      },
      "execution_count": 19,
      "outputs": [
        {
          "output_type": "execute_result",
          "data": {
            "text/plain": [
              "{' Prabhas is an Indian actor who works predominantly in Telugu cinema.': 0.6000000000000001,\n",
              " \"One of the highest-paid actors in Indian cinema, Prabhas has featured in Forbes India's Celebrity 100 list three times since 2015 based on his income and popularity.\": 1.0999999999999999,\n",
              " 'He has received seven Filmfare Awards South nominations and is a recipient of the Nandi Award and the SIIMA Award.': 0.4,\n",
              " 'Prabhas made his acting debut with the 2002 Telugu drama Eeswar, and later attained his breakthrough with the romantic action film Varsham (2004).': 2.2,\n",
              " 'His notable works include Chatrapathi (2005), Bujjigadu (2008), Billa (2009), Darling (2010), Mr.': 0.4,\n",
              " 'He won the state Nandi Award for Best Actor for his performance in Mirchi.': 0.30000000000000004,\n",
              " \"In 2015, Prabhas starred in the title role in S. S. Rajamouli's epic action film Baahubali: The Beginning, which is the fourth-highest-grossing Indian film to date.\": 2.9000000000000004,\n",
              " 'Prabhas next film Saaho was an above average grosser at the box office while Radhe Shyam ended up as a commercial failure at the box office.': 2.600000000000001,\n",
              " \"He has also acted in Om Raut's Adipurush which was a commercial failure.\": 0.7,\n",
              " 'Currently Prabhas is filming 2 films - Kalki 2898 AD, and a film with Maruthi titled The Raja Saab.': 1.4,\n",
              " \"Prabhas is also set to star in Sandeep Reddy Vanga's cop drama film Spirit.\": 1.7}"
            ]
          },
          "metadata": {},
          "execution_count": 19
        }
      ]
    },
    {
      "cell_type": "markdown",
      "source": [
        "## Extracting the Article Summary"
      ],
      "metadata": {
        "id": "0rOBU9u6vH_O"
      }
    },
    {
      "cell_type": "code",
      "source": [
        "# Making the final summary\n",
        "number_of_sentence_to_summarize_to = 10\n",
        "\n",
        "import heapq #  Heap queue algorithm, uses priority queue algorithm\n",
        "summary_sentences = heapq.nlargest(number_of_sentence_to_summarize_to, sentence_scores, key=sentence_scores.get)\n",
        "\n",
        "summary = ' '.join(summary_sentences)\n",
        "print(summary)"
      ],
      "metadata": {
        "colab": {
          "base_uri": "https://localhost:8080/"
        },
        "id": "g4xJzeYxs7Af",
        "outputId": "3e8c3e9b-0af4-4381-b274-b043ad7f4a59"
      },
      "execution_count": 20,
      "outputs": [
        {
          "output_type": "stream",
          "name": "stdout",
          "text": [
            "In 2015, Prabhas starred in the title role in S. S. Rajamouli's epic action film Baahubali: The Beginning, which is the fourth-highest-grossing Indian film to date. Prabhas next film Saaho was an above average grosser at the box office while Radhe Shyam ended up as a commercial failure at the box office. Prabhas made his acting debut with the 2002 Telugu drama Eeswar, and later attained his breakthrough with the romantic action film Varsham (2004). Prabhas is also set to star in Sandeep Reddy Vanga's cop drama film Spirit. Currently Prabhas is filming 2 films - Kalki 2898 AD, and a film with Maruthi titled The Raja Saab. One of the highest-paid actors in Indian cinema, Prabhas has featured in Forbes India's Celebrity 100 list three times since 2015 based on his income and popularity. He has also acted in Om Raut's Adipurush which was a commercial failure.  Prabhas is an Indian actor who works predominantly in Telugu cinema. He has received seven Filmfare Awards South nominations and is a recipient of the Nandi Award and the SIIMA Award. His notable works include Chatrapathi (2005), Bujjigadu (2008), Billa (2009), Darling (2010), Mr.\n"
          ]
        }
      ]
    },
    {
      "cell_type": "code",
      "source": [],
      "metadata": {
        "id": "nq1lo5j2s-s3"
      },
      "execution_count": 20,
      "outputs": []
    }
  ]
}