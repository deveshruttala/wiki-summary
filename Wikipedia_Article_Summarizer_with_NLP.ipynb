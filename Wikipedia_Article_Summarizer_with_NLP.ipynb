{
  "cells": [
    {
      "cell_type": "markdown",
      "source": [
        "#               **Wikipedia Article Summarizer** _(Python project based on NLP techniques)_\n",
        "\n",
        "#                                      Text Summarization with NLTK\n",
        "*(NLTK, or Natural Language Toolkit, is a Python package that you can use for NLP.)*\n",
        "\n",
        " *Since I like F-Secure and wishing to attend their trainings, I search for them and with this simple Wikipedia Article summarizer, I also practise NLP and Python, meanwhile learning more about F-Secure, its history, culture, etc.*"
      ],
      "metadata": {
        "id": "zg39j84LHZkr"
      }
    },
    {
      "cell_type": "code",
      "execution_count": 3,
      "source": [
        "# Install these as requirements if you need. You may also try \"pip3 install beautifulsoup4\" if \"pip\" encounters errors.\n",
        "!pip install beautifulsoup4\n",
        "!pip install lxml"
      ],
      "outputs": [
        {
          "output_type": "stream",
          "name": "stdout",
          "text": [
            "Requirement already satisfied: beautifulsoup4 in /usr/local/lib/python3.10/dist-packages (4.11.2)\n",
            "Requirement already satisfied: soupsieve>1.2 in /usr/local/lib/python3.10/dist-packages (from beautifulsoup4) (2.5)\n",
            "Requirement already satisfied: lxml in /usr/local/lib/python3.10/dist-packages (4.9.4)\n"
          ]
        }
      ],
      "metadata": {
        "colab": {
          "base_uri": "https://localhost:8080/"
        },
        "id": "T7GZRonlHZkw",
        "outputId": "5db81ea3-3e7b-4b98-8bd6-054ad804ecdc"
      }
    },
    {
      "cell_type": "markdown",
      "source": [
        "### Scrapping Wikipedia Article"
      ],
      "metadata": {
        "id": "LT71mFlrHZkx"
      }
    },
    {
      "cell_type": "code",
      "execution_count": 4,
      "source": [
        "import bs4 as bs\n",
        "import urllib.request\n",
        "import re\n",
        "\n",
        "# Normally, in Jupyter Notebooks, you may prefer to give a fixed URL, change the URL when you need it\n",
        "# and not ask for user input.But I wanted to see which articles,\n",
        "# I can get a better summary and when the NLTK does \"so so\":)\n",
        "userLink = input(\"Which Wikipedia article would you want me to summarize: \")\n",
        "# Provide the Wikipedia URL like this: https://\n",
        "raw_data = urllib.request.urlopen(userLink)\n",
        "document = raw_data.read()\n",
        "\n",
        "parsed_document = bs.BeautifulSoup(document,'lxml')\n",
        "\n",
        "article_paras = parsed_document.find_all('p')\n",
        "\n",
        "scrapped_data = \"\"\n",
        "\n",
        "for para in article_paras:\n",
        "    scrapped_data += para.text"
      ],
      "outputs": [
        {
          "name": "stdout",
          "output_type": "stream",
          "text": [
            "Which Wikipedia article would you want me to summarize: https://en.wikipedia.org/wiki/List_of_2023_box_office_number-one_films_in_the_United_States\n"
          ]
        }
      ],
      "metadata": {
        "colab": {
          "base_uri": "https://localhost:8080/"
        },
        "id": "-jileIB-HZky",
        "outputId": "8798fdbf-d454-4625-965d-ba75500bab2d"
      }
    },
    {
      "cell_type": "code",
      "execution_count": 5,
      "source": [
        "print(scrapped_data[:1500])"
      ],
      "outputs": [
        {
          "output_type": "stream",
          "name": "stdout",
          "text": [
            "\n",
            "This is a list of films which ranked number one at the weekend box office for the year 2023.[1]\n",
            "Highest-grossing films of 2023 by Calendar Gross[54]\n",
            "\n",
            "\n"
          ]
        }
      ],
      "metadata": {
        "colab": {
          "base_uri": "https://localhost:8080/"
        },
        "id": "XeSoRqLIHZky",
        "outputId": "58282f9e-7612-4d2c-ab9d-79dee08022e4"
      }
    },
    {
      "cell_type": "markdown",
      "source": [
        "### Text Cleaning"
      ],
      "metadata": {
        "id": "GpuvbEMFHZkz"
      }
    },
    {
      "cell_type": "code",
      "execution_count": 6,
      "source": [
        "scrapped_data = re.sub(r'\\[[0-9]*\\]', ' ',  scrapped_data)\n",
        "scrapped_data = re.sub(r'\\s+', ' ',  scrapped_data)"
      ],
      "outputs": [],
      "metadata": {
        "id": "hB6ymbKgHZk0"
      }
    },
    {
      "cell_type": "code",
      "execution_count": 7,
      "source": [
        "formatted_text = re.sub('[^a-zA-Z]', ' ', scrapped_data)\n",
        "formatted_text = re.sub(r'\\s+', ' ', formatted_text)"
      ],
      "outputs": [],
      "metadata": {
        "id": "nwTqPG9wHZk0"
      }
    },
    {
      "cell_type": "code",
      "source": [
        "!pip install nltk"
      ],
      "metadata": {
        "colab": {
          "base_uri": "https://localhost:8080/"
        },
        "id": "mvFnFOzAISa0",
        "outputId": "85178c7f-438a-4d96-b3c7-8d0f58cd56be"
      },
      "execution_count": 8,
      "outputs": [
        {
          "output_type": "stream",
          "name": "stdout",
          "text": [
            "Requirement already satisfied: nltk in /usr/local/lib/python3.10/dist-packages (3.8.1)\n",
            "Requirement already satisfied: click in /usr/local/lib/python3.10/dist-packages (from nltk) (8.1.7)\n",
            "Requirement already satisfied: joblib in /usr/local/lib/python3.10/dist-packages (from nltk) (1.3.2)\n",
            "Requirement already satisfied: regex>=2021.8.3 in /usr/local/lib/python3.10/dist-packages (from nltk) (2023.6.3)\n",
            "Requirement already satisfied: tqdm in /usr/local/lib/python3.10/dist-packages (from nltk) (4.66.1)\n"
          ]
        }
      ]
    },
    {
      "cell_type": "markdown",
      "source": [
        "### Finding Word Frequencies"
      ],
      "metadata": {
        "id": "6c25VwEyHZk1"
      }
    },
    {
      "cell_type": "code",
      "execution_count": 9,
      "source": [
        "import nltk #if you don't have it, then>> python3 -m pip install nltk\n",
        "nltk.download('punkt')\n",
        "all_sentences = nltk.sent_tokenize(scrapped_data)"
      ],
      "outputs": [
        {
          "output_type": "stream",
          "name": "stderr",
          "text": [
            "[nltk_data] Downloading package punkt to /root/nltk_data...\n",
            "[nltk_data]   Unzipping tokenizers/punkt.zip.\n"
          ]
        }
      ],
      "metadata": {
        "colab": {
          "base_uri": "https://localhost:8080/"
        },
        "id": "sgjJ_EP3HZk1",
        "outputId": "0226fc90-4ecb-4ec4-8f9d-7707af187b72"
      }
    },
    {
      "cell_type": "code",
      "execution_count": 10,
      "source": [
        "# Stop Words are the words that you will most probably ignore, so we filter them out of the text.\n",
        "nltk.download('stopwords')\n",
        "stopwords = nltk.corpus.stopwords.words('english')\n",
        "\n",
        "word_freq = {}\n",
        "for word in nltk.word_tokenize(formatted_text):\n",
        "    if word not in stopwords:\n",
        "        if word not in word_freq.keys():\n",
        "            word_freq[word] = 1\n",
        "        else:\n",
        "            word_freq[word] += 1"
      ],
      "outputs": [
        {
          "output_type": "stream",
          "name": "stderr",
          "text": [
            "[nltk_data] Downloading package stopwords to /root/nltk_data...\n",
            "[nltk_data]   Unzipping corpora/stopwords.zip.\n"
          ]
        }
      ],
      "metadata": {
        "colab": {
          "base_uri": "https://localhost:8080/"
        },
        "id": "OyCTlHMMHZk1",
        "outputId": "23646199-edeb-4377-f834-19b381a3c96d"
      }
    },
    {
      "cell_type": "code",
      "execution_count": 11,
      "source": [
        "max_freq = max(word_freq.values())\n",
        "\n",
        "for word in word_freq.keys():\n",
        "    word_freq[word] = (word_freq[word]/max_freq)"
      ],
      "outputs": [],
      "metadata": {
        "id": "d-4oe5bRHZk2"
      }
    },
    {
      "cell_type": "markdown",
      "source": [
        "### Finding Sentence Scores"
      ],
      "metadata": {
        "id": "jjOfmPAcHZk2"
      }
    },
    {
      "cell_type": "code",
      "execution_count": 12,
      "source": [
        "sentence_scores = {}\n",
        "for sentence in all_sentences:\n",
        "    for token in nltk.word_tokenize(sentence.lower()):\n",
        "        if token in word_freq.keys():\n",
        "            if len(sentence.split(' ')) <25:\n",
        "                if sentence not in sentence_scores.keys():\n",
        "                    sentence_scores[sentence] = word_freq[token]\n",
        "                else:\n",
        "                    sentence_scores[sentence] += word_freq[token]"
      ],
      "outputs": [],
      "metadata": {
        "id": "lyYwiNZgHZk2"
      }
    },
    {
      "cell_type": "markdown",
      "source": [
        "### Printing Summaries"
      ],
      "metadata": {
        "id": "Ys2OEW_ZHZk2"
      }
    },
    {
      "cell_type": "code",
      "execution_count": 13,
      "source": [
        "import heapq\n",
        "selected_sentences= heapq.nlargest(5, sentence_scores, key=sentence_scores.get)\n",
        "\n",
        "text_summary = ' '.join(selected_sentences)\n",
        "print(text_summary)"
      ],
      "outputs": [
        {
          "output_type": "stream",
          "name": "stdout",
          "text": [
            " This is a list of films which ranked number one at the weekend box office for the year 2023. Highest-grossing films of 2023 by Calendar Gross\n"
          ]
        }
      ],
      "metadata": {
        "colab": {
          "base_uri": "https://localhost:8080/"
        },
        "id": "sZf7l6R2HZk3",
        "outputId": "25d6cc6d-c11d-4e16-a1b8-cbed403abc3c"
      }
    },
    {
      "cell_type": "code",
      "source": [
        "selected_sentences\n",
        "stopwords\n",
        "scrapped_data"
      ],
      "metadata": {
        "colab": {
          "base_uri": "https://localhost:8080/",
          "height": 36
        },
        "id": "0eBCqXtJI_Xz",
        "outputId": "44e60b86-6ba6-4460-d3e3-4e94da098498"
      },
      "execution_count": 14,
      "outputs": [
        {
          "output_type": "execute_result",
          "data": {
            "text/plain": [
              "' This is a list of films which ranked number one at the weekend box office for the year 2023. Highest-grossing films of 2023 by Calendar Gross '"
            ],
            "application/vnd.google.colaboratory.intrinsic+json": {
              "type": "string"
            }
          },
          "metadata": {},
          "execution_count": 14
        }
      ]
    },
    {
      "cell_type": "code",
      "source": [
        "stopwords"
      ],
      "metadata": {
        "colab": {
          "base_uri": "https://localhost:8080/"
        },
        "id": "TY9xIprZREey",
        "outputId": "d2835ebe-e280-46af-9fb4-21c4715d05c0"
      },
      "execution_count": 16,
      "outputs": [
        {
          "output_type": "execute_result",
          "data": {
            "text/plain": [
              "['i',\n",
              " 'me',\n",
              " 'my',\n",
              " 'myself',\n",
              " 'we',\n",
              " 'our',\n",
              " 'ours',\n",
              " 'ourselves',\n",
              " 'you',\n",
              " \"you're\",\n",
              " \"you've\",\n",
              " \"you'll\",\n",
              " \"you'd\",\n",
              " 'your',\n",
              " 'yours',\n",
              " 'yourself',\n",
              " 'yourselves',\n",
              " 'he',\n",
              " 'him',\n",
              " 'his',\n",
              " 'himself',\n",
              " 'she',\n",
              " \"she's\",\n",
              " 'her',\n",
              " 'hers',\n",
              " 'herself',\n",
              " 'it',\n",
              " \"it's\",\n",
              " 'its',\n",
              " 'itself',\n",
              " 'they',\n",
              " 'them',\n",
              " 'their',\n",
              " 'theirs',\n",
              " 'themselves',\n",
              " 'what',\n",
              " 'which',\n",
              " 'who',\n",
              " 'whom',\n",
              " 'this',\n",
              " 'that',\n",
              " \"that'll\",\n",
              " 'these',\n",
              " 'those',\n",
              " 'am',\n",
              " 'is',\n",
              " 'are',\n",
              " 'was',\n",
              " 'were',\n",
              " 'be',\n",
              " 'been',\n",
              " 'being',\n",
              " 'have',\n",
              " 'has',\n",
              " 'had',\n",
              " 'having',\n",
              " 'do',\n",
              " 'does',\n",
              " 'did',\n",
              " 'doing',\n",
              " 'a',\n",
              " 'an',\n",
              " 'the',\n",
              " 'and',\n",
              " 'but',\n",
              " 'if',\n",
              " 'or',\n",
              " 'because',\n",
              " 'as',\n",
              " 'until',\n",
              " 'while',\n",
              " 'of',\n",
              " 'at',\n",
              " 'by',\n",
              " 'for',\n",
              " 'with',\n",
              " 'about',\n",
              " 'against',\n",
              " 'between',\n",
              " 'into',\n",
              " 'through',\n",
              " 'during',\n",
              " 'before',\n",
              " 'after',\n",
              " 'above',\n",
              " 'below',\n",
              " 'to',\n",
              " 'from',\n",
              " 'up',\n",
              " 'down',\n",
              " 'in',\n",
              " 'out',\n",
              " 'on',\n",
              " 'off',\n",
              " 'over',\n",
              " 'under',\n",
              " 'again',\n",
              " 'further',\n",
              " 'then',\n",
              " 'once',\n",
              " 'here',\n",
              " 'there',\n",
              " 'when',\n",
              " 'where',\n",
              " 'why',\n",
              " 'how',\n",
              " 'all',\n",
              " 'any',\n",
              " 'both',\n",
              " 'each',\n",
              " 'few',\n",
              " 'more',\n",
              " 'most',\n",
              " 'other',\n",
              " 'some',\n",
              " 'such',\n",
              " 'no',\n",
              " 'nor',\n",
              " 'not',\n",
              " 'only',\n",
              " 'own',\n",
              " 'same',\n",
              " 'so',\n",
              " 'than',\n",
              " 'too',\n",
              " 'very',\n",
              " 's',\n",
              " 't',\n",
              " 'can',\n",
              " 'will',\n",
              " 'just',\n",
              " 'don',\n",
              " \"don't\",\n",
              " 'should',\n",
              " \"should've\",\n",
              " 'now',\n",
              " 'd',\n",
              " 'll',\n",
              " 'm',\n",
              " 'o',\n",
              " 're',\n",
              " 've',\n",
              " 'y',\n",
              " 'ain',\n",
              " 'aren',\n",
              " \"aren't\",\n",
              " 'couldn',\n",
              " \"couldn't\",\n",
              " 'didn',\n",
              " \"didn't\",\n",
              " 'doesn',\n",
              " \"doesn't\",\n",
              " 'hadn',\n",
              " \"hadn't\",\n",
              " 'hasn',\n",
              " \"hasn't\",\n",
              " 'haven',\n",
              " \"haven't\",\n",
              " 'isn',\n",
              " \"isn't\",\n",
              " 'ma',\n",
              " 'mightn',\n",
              " \"mightn't\",\n",
              " 'mustn',\n",
              " \"mustn't\",\n",
              " 'needn',\n",
              " \"needn't\",\n",
              " 'shan',\n",
              " \"shan't\",\n",
              " 'shouldn',\n",
              " \"shouldn't\",\n",
              " 'wasn',\n",
              " \"wasn't\",\n",
              " 'weren',\n",
              " \"weren't\",\n",
              " 'won',\n",
              " \"won't\",\n",
              " 'wouldn',\n",
              " \"wouldn't\"]"
            ]
          },
          "metadata": {},
          "execution_count": 16
        }
      ]
    },
    {
      "cell_type": "code",
      "source": [
        "selected_sentences\n"
      ],
      "metadata": {
        "id": "3vTecNQJSHsc",
        "outputId": "6dee08ed-5df9-4d95-c3d0-5f288b8421a1",
        "colab": {
          "base_uri": "https://localhost:8080/"
        }
      },
      "execution_count": 17,
      "outputs": [
        {
          "output_type": "execute_result",
          "data": {
            "text/plain": [
              "[' This is a list of films which ranked number one at the weekend box office for the year 2023.',\n",
              " 'Highest-grossing films of 2023 by Calendar Gross']"
            ]
          },
          "metadata": {},
          "execution_count": 17
        }
      ]
    },
    {
      "cell_type": "code",
      "source": [],
      "metadata": {
        "id": "9aUhRluPSJhK"
      },
      "execution_count": null,
      "outputs": []
    }
  ],
  "metadata": {
    "kernelspec": {
      "name": "python3",
      "display_name": "Python 3"
    },
    "language_info": {
      "codemirror_mode": {
        "name": "ipython",
        "version": 3
      },
      "file_extension": ".py",
      "mimetype": "text/x-python",
      "name": "python",
      "nbconvert_exporter": "python",
      "pygments_lexer": "ipython3",
      "version": "3.9.5"
    },
    "interpreter": {
      "hash": "916dbcbb3f70747c44a77c7bcd40155683ae19c65e1c03b4aa3499c5328201f1"
    },
    "colab": {
      "provenance": [],
      "gpuType": "T4"
    },
    "accelerator": "GPU"
  },
  "nbformat": 4,
  "nbformat_minor": 0
}